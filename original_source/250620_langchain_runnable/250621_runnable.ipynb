{
 "cells": [
  {
   "cell_type": "code",
   "execution_count": 1,
   "id": "edb3f6a6",
   "metadata": {},
   "outputs": [
    {
     "data": {
      "text/plain": [
       "True"
      ]
     },
     "execution_count": 1,
     "metadata": {},
     "output_type": "execute_result"
    }
   ],
   "source": [
    "from dotenv import load_dotenv\n",
    "load_dotenv()"
   ]
  },
  {
   "cell_type": "markdown",
   "id": "0405308a",
   "metadata": {},
   "source": [
    "### [Runnable](https://python.langchain.com/api_reference/core/runnables/langchain_core.runnables.base.Runnable.html)\n",
    "#### 1. Key Methods\n",
    "- (a)invoke, (a)batch, (a)stream, astream_log\n",
    "- built-in-optimizations for Batch, Async\n",
    "- All methods accept a config argument ex. tags, tracing  \n",
    "\n",
    "p.s. schematic information of Runnables - use property: input_schema, output_schema, config_schema"
   ]
  },
  {
   "cell_type": "markdown",
   "id": "8af67858",
   "metadata": {},
   "source": [
    "#### 2. LCEL and Composition\n",
    "- LCEL: declarative way to compose runnables into chains\n",
    "- chain constructed in LCEL way -> have (a)sync, batch, stream support\n",
    "\n",
    "##### main composition primitives:\n",
    "1. RunnableSequence:\n",
    "- invokes runnables sequentially\n",
    "- runnable -> (output) <=> (input) -> runnable\n",
    "- example of using operator of RunnableSequence: **a | b | c** \n",
    "  \n",
    "2. RunnableParallel\n",
    "- invokes runnables cocurrently\n",
    "- provide same input to each (runnables)  \n",
    "runnable -> (output) <=> (input) -> runnable  \n",
    "------------------------<=> (input) -> runnable  \n",
    "- operate by using **dict** in the sequence ex. {'a':lambda, 'b':lambda}\n",
    "- or operate by passing dict to Runnable Parallel (???)"
   ]
  },
  {
   "cell_type": "code",
   "execution_count": 26,
   "id": "1ebda48a",
   "metadata": {},
   "outputs": [
    {
     "name": "stdout",
     "output_type": "stream",
     "text": [
      "4\n",
      "[4, 6, 8]\n"
     ]
    },
    {
     "data": {
      "text/plain": [
       "{'mul_2': 4, 'mul_5': 10}"
      ]
     },
     "execution_count": 26,
     "metadata": {},
     "output_type": "execute_result"
    }
   ],
   "source": [
    "# RunnableSequence\n",
    "from langchain_core.runnables import RunnableLambda\n",
    "\n",
    "sequence = RunnableLambda(lambda x: x + 1) | RunnableLambda(lambda x: x * 2)\n",
    "print(sequence.invoke(1))\n",
    "print(sequence.batch([1,2,3]))\n",
    "\n",
    "# RunnableParallel\n",
    "sequence = RunnableLambda(lambda x: x + 1) | {\n",
    "    'mul_2': RunnableLambda(lambda x: x * 2),\n",
    "    'mul_5': RunnableLambda(lambda x: x * 5)\n",
    "}\n",
    "sequence.invoke(1)"
   ]
  },
  {
   "cell_type": "markdown",
   "id": "824c0bd6",
   "metadata": {},
   "source": [
    "#### 3. Standard Methods\n",
    "- all methods work for any runnables ex. `retry policy`, add lifecycle listeners, make them configurable\n",
    "- including runnables contructed by other runnables\n"
   ]
  },
  {
   "cell_type": "code",
   "execution_count": 28,
   "id": "9182d692",
   "metadata": {},
   "outputs": [
    {
     "name": "stdout",
     "output_type": "stream",
     "text": [
      "{'title': 'add_one_input', 'type': 'integer'}\n",
      "{'title': 'buggy_double_output', 'type': 'integer'}\n",
      "\n",
      "random_num:  0.8454297760636902\n",
      "This code failed, and will probably be retried!\n",
      "random_num:  0.990978149158021\n",
      "This code failed, and will probably be retried!\n",
      "random_num:  0.43558078074659046\n",
      "This code failed, and will probably be retried!\n",
      "random_num:  0.5701463823620421\n",
      "This code failed, and will probably be retried!\n",
      "random_num:  0.6360043643641371\n",
      "This code failed, and will probably be retried!\n",
      "random_num:  0.3206983602446597\n",
      "This code failed, and will probably be retried!\n",
      "random_num:  0.6353118116245488\n",
      "This code failed, and will probably be retried!\n",
      "random_num:  0.6702551244936716\n",
      "This code failed, and will probably be retried!\n",
      "random_num:  0.23846841331781998\n",
      "6\n"
     ]
    }
   ],
   "source": [
    "# example of retry policy for a runnable\n",
    "\n",
    "from langchain_core.runnables import RunnableLambda\n",
    "import random\n",
    "\n",
    "def add_one(x:int) -> int:\n",
    "    return x + 1\n",
    "\n",
    "def buggy_double(y:int) -> int:\n",
    "    \"\"\"Buggy cod that will fail 70% of the time\"\"\"\n",
    "    random_num = random.random()\n",
    "    print(\"random_num: \", random_num)\n",
    "    if random_num > 0.3:\n",
    "        print('This code failed, and will probably be retried!')\n",
    "        raise ValueError('Triggered buggy code')\n",
    "    return y * 2\n",
    "\n",
    "sequence = (\n",
    "    RunnableLambda(add_one) | \n",
    "    RunnableLambda(buggy_double).with_retry( # method for this example\n",
    "        stop_after_attempt=10,\n",
    "        wait_exponential_jitter=False\n",
    "    )\n",
    ")\n",
    "\n",
    "print(sequence.input_schema.model_json_schema()) # chain의 가장 첫 input에 대한 title(함수명+input), type\n",
    "print(sequence.output_schema.model_json_schema()) # chain의 최종 output에 대한 title(함수명+output), type\n",
    "print()\n",
    "print(sequence.invoke(2))"
   ]
  },
  {
   "cell_type": "markdown",
   "id": "5cdfed97",
   "metadata": {},
   "source": [
    "#### 4. Debugging and Tracing\n",
    "- It is useful to see intermediate results to debug and trace the chain\n",
    "- global debug flag: enable debug output for all chains\n",
    "- passing callbacks to chain: use 'config' of invoke()"
   ]
  },
  {
   "cell_type": "code",
   "execution_count": null,
   "id": "76c64f54",
   "metadata": {},
   "outputs": [],
   "source": [
    "# global debug flag\n",
    "from langchain_core.globals import set_debug\n",
    "set_debug(False) # True로 설정할 경우, intput output 진행상황이 자세히 나옴"
   ]
  },
  {
   "cell_type": "code",
   "execution_count": 27,
   "id": "60c9f357",
   "metadata": {},
   "outputs": [
    {
     "name": "stdout",
     "output_type": "stream",
     "text": [
      "\u001b[32;1m\u001b[1;3m[chain/start]\u001b[0m \u001b[1m[chain:RunnableSequence] Entering Chain run with input:\n",
      "\u001b[0m{\n",
      "  \"input\": 1\n",
      "}\n",
      "\u001b[32;1m\u001b[1;3m[chain/start]\u001b[0m \u001b[1m[chain:RunnableSequence > chain:RunnableLambda] Entering Chain run with input:\n",
      "\u001b[0m{\n",
      "  \"input\": 1\n",
      "}\n",
      "\u001b[36;1m\u001b[1;3m[chain/end]\u001b[0m \u001b[1m[chain:RunnableSequence > chain:RunnableLambda] [0ms] Exiting Chain run with output:\n",
      "\u001b[0m{\n",
      "  \"output\": 2\n",
      "}\n",
      "\u001b[32;1m\u001b[1;3m[chain/start]\u001b[0m \u001b[1m[chain:RunnableSequence > chain:RunnableParallel<mul_2,mul_5>] Entering Chain run with input:\n",
      "\u001b[0m{\n",
      "  \"input\": 2\n",
      "}\n",
      "\u001b[32;1m\u001b[1;3m[chain/start]\u001b[0m \u001b[1m[chain:RunnableSequence > chain:RunnableParallel<mul_2,mul_5> > chain:RunnableLambda] Entering Chain run with input:\n",
      "\u001b[0m{\n",
      "  \"input\": 2\n",
      "}\n",
      "\u001b[36;1m\u001b[1;3m[chain/end]\u001b[0m \u001b[1m[chain:RunnableSequence > chain:RunnableParallel<mul_2,mul_5> > chain:RunnableLambda] [1ms] Exiting Chain run with output:\n",
      "\u001b[0m{\n",
      "  \"output\": 4\n",
      "}\n",
      "\u001b[32;1m\u001b[1;3m[chain/start]\u001b[0m \u001b[1m[chain:RunnableSequence > chain:RunnableParallel<mul_2,mul_5> > chain:RunnableLambda] Entering Chain run with input:\n",
      "\u001b[0m{\n",
      "  \"input\": 2\n",
      "}\n",
      "\u001b[36;1m\u001b[1;3m[chain/end]\u001b[0m \u001b[1m[chain:RunnableSequence > chain:RunnableParallel<mul_2,mul_5> > chain:RunnableLambda] [0ms] Exiting Chain run with output:\n",
      "\u001b[0m{\n",
      "  \"output\": 10\n",
      "}\n",
      "\u001b[36;1m\u001b[1;3m[chain/end]\u001b[0m \u001b[1m[chain:RunnableSequence > chain:RunnableParallel<mul_2,mul_5>] [4ms] Exiting Chain run with output:\n",
      "\u001b[0m{\n",
      "  \"mul_2\": 4,\n",
      "  \"mul_5\": 10\n",
      "}\n",
      "\u001b[36;1m\u001b[1;3m[chain/end]\u001b[0m \u001b[1m[chain:RunnableSequence] [5ms] Exiting Chain run with output:\n",
      "\u001b[0m{\n",
      "  \"mul_2\": 4,\n",
      "  \"mul_5\": 10\n",
      "}\n"
     ]
    },
    {
     "data": {
      "text/plain": [
       "{'mul_2': 4, 'mul_5': 10}"
      ]
     },
     "execution_count": 27,
     "metadata": {},
     "output_type": "execute_result"
    }
   ],
   "source": [
    "# passing callbacks to chain\n",
    "from langchain_core.tracers import ConsoleCallbackHandler\n",
    "\n",
    "chain = RunnableLambda(lambda x: x + 1) | {\n",
    "    'mul_2': RunnableLambda(lambda x: x * 2),\n",
    "    'mul_5': RunnableLambda(lambda x: x * 5)\n",
    "}\n",
    "chain.invoke(\n",
    "    1,\n",
    "    config={'callbacks': [ConsoleCallbackHandler()]}\n",
    ")"
   ]
  },
  {
   "cell_type": "code",
   "execution_count": null,
   "id": "47a1aa9e",
   "metadata": {},
   "outputs": [],
   "source": []
  }
 ],
 "metadata": {
  "kernelspec": {
   "display_name": "teddy",
   "language": "python",
   "name": "python3"
  },
  "language_info": {
   "codemirror_mode": {
    "name": "ipython",
    "version": 3
   },
   "file_extension": ".py",
   "mimetype": "text/x-python",
   "name": "python",
   "nbconvert_exporter": "python",
   "pygments_lexer": "ipython3",
   "version": "3.11.11"
  }
 },
 "nbformat": 4,
 "nbformat_minor": 5
}
