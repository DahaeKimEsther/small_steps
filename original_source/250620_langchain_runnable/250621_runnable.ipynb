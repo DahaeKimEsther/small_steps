{
 "cells": [
  {
   "cell_type": "code",
   "execution_count": 1,
   "id": "edb3f6a6",
   "metadata": {},
   "outputs": [
    {
     "data": {
      "text/plain": [
       "True"
      ]
     },
     "execution_count": 1,
     "metadata": {},
     "output_type": "execute_result"
    }
   ],
   "source": [
    "from dotenv import load_dotenv\n",
    "load_dotenv()"
   ]
  },
  {
   "cell_type": "markdown",
   "id": "0405308a",
   "metadata": {},
   "source": [
    "### [Runnable](https://python.langchain.com/api_reference/core/runnables/langchain_core.runnables.base.Runnable.html)\n",
    "#### 1. Key Methods\n",
    "- (a)invoke, (a)batch, (a)stream, astream_log\n",
    "- built-in-optimizations for Batch, Async\n",
    "- All methods accept a config argument ex. tags, tracing  \n",
    "\n",
    "p.s. schematic information of Runnables - use property: input_schema, output_schema, config_schema"
   ]
  },
  {
   "cell_type": "markdown",
   "id": "8af67858",
   "metadata": {},
   "source": [
    "#### 2. LCEL and Composition\n",
    "- LCEL: declarative way to compose runnables into chains\n",
    "- chain constructed in LCEL way -> have (a)sync, batch, stream support\n",
    "\n",
    "##### main composition primitives:\n",
    "1. RunnableSequence:\n",
    "- invokes runnables sequentially\n",
    "- runnable -> (output) <=> (input) -> runnable\n",
    "- example of using operator of RunnableSequence: **a | b | c** \n",
    "  \n",
    "2. RunnableParallel\n",
    "- invokes runnables cocurrently\n",
    "- provide same input to each (runnables)  \n",
    "runnable -> (output) <=> (input) -> runnable  \n",
    "------------------------<=> (input) -> runnable  \n",
    "- operate by using **dict** in the sequence ex. {'a':lambda, 'b':lambda}\n",
    "- or operate by passing dict to Runnable Parallel (???)"
   ]
  },
  {
   "cell_type": "code",
   "execution_count": null,
   "id": "1ebda48a",
   "metadata": {},
   "outputs": [],
   "source": []
  }
 ],
 "metadata": {
  "kernelspec": {
   "display_name": "teddy",
   "language": "python",
   "name": "python3"
  },
  "language_info": {
   "codemirror_mode": {
    "name": "ipython",
    "version": 3
   },
   "file_extension": ".py",
   "mimetype": "text/x-python",
   "name": "python",
   "nbconvert_exporter": "python",
   "pygments_lexer": "ipython3",
   "version": "3.11.11"
  }
 },
 "nbformat": 4,
 "nbformat_minor": 5
}
