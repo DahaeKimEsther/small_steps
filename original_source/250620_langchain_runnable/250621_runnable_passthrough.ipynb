{
 "cells": [
  {
   "cell_type": "code",
   "execution_count": 1,
   "id": "edb3f6a6",
   "metadata": {},
   "outputs": [
    {
     "data": {
      "text/plain": [
       "True"
      ]
     },
     "execution_count": 1,
     "metadata": {},
     "output_type": "execute_result"
    }
   ],
   "source": [
    "from dotenv import load_dotenv\n",
    "load_dotenv()"
   ]
  },
  {
   "cell_type": "markdown",
   "id": "0405308a",
   "metadata": {},
   "source": [
    "### RunnablePassthrough\n",
    "- passthrough inputs almost like identity function\n",
    "- OR can be configured to add additional keys to the output"
   ]
  },
  {
   "cell_type": "markdown",
   "id": "8af67858",
   "metadata": {},
   "source": [
    "#### 1) RunnablePassthrough as *identity function*"
   ]
  },
  {
   "cell_type": "code",
   "execution_count": 2,
   "id": "1ebda48a",
   "metadata": {},
   "outputs": [
    {
     "data": {
      "text/plain": [
       "{'origin': 1, 'modified': 2}"
      ]
     },
     "execution_count": 2,
     "metadata": {},
     "output_type": "execute_result"
    }
   ],
   "source": [
    "from langchain_core.runnables import (\n",
    "    RunnableLambda,\n",
    "    RunnableParallel,\n",
    "    RunnablePassthrough\n",
    ")\n",
    "\n",
    "runnable = RunnableParallel( # 값 산출을 동시에 진행함.\n",
    "    origin=RunnablePassthrough(), # origin의 값은 RunnablePassthrough가 산출\n",
    "    modified=lambda x: x+1 # modified의 값은 lambda함수가 산출\n",
    ")\n",
    "\n",
    "runnable.invoke(1)"
   ]
  },
  {
   "cell_type": "code",
   "execution_count": 4,
   "id": "b29ea2c9",
   "metadata": {},
   "outputs": [
    {
     "data": {
      "text/plain": [
       "{'original': 'completion', 'parsed': 'noitelpmoc'}"
      ]
     },
     "execution_count": 4,
     "metadata": {},
     "output_type": "execute_result"
    }
   ],
   "source": [
    "def fake_llm(prompt:str) -> str:\n",
    "    return \"completion\"\n",
    "\n",
    "chain = RunnableLambda(fake_llm) | { # 'hello' -> \"completion\"\n",
    "    'original': RunnablePassthrough(), # \"completion\"\n",
    "    'parsed': lambda text : text[::-1] # \"noitelpmoc\"\n",
    "}\n",
    "\n",
    "chain.invoke('hello')"
   ]
  },
  {
   "cell_type": "markdown",
   "id": "542b63a3",
   "metadata": {},
   "source": [
    "#### 2) RunnablePassthrough for *adding some keys to the output*"
   ]
  },
  {
   "cell_type": "code",
   "execution_count": 5,
   "id": "6b2f18c8",
   "metadata": {},
   "outputs": [
    {
     "data": {
      "text/plain": [
       "{'llm1': 'completion', 'llm2': 'completion', 'total_chars': 20}"
      ]
     },
     "execution_count": 5,
     "metadata": {},
     "output_type": "execute_result"
    }
   ],
   "source": [
    "def fake_llm(prompt:str) -> str:\n",
    "    return \"completion\"\n",
    "\n",
    "runnable = {\n",
    "    \"llm1\": fake_llm,\n",
    "    \"llm2\": fake_llm,\n",
    "} | RunnablePassthrough.assign(\n",
    "    total_chars=lambda inputs:len(inputs['llm1'] + inputs['llm2']) # inputs <=> {\"llm1\": \"completion\", \"llm2\": \"completion\"}\n",
    ")\n",
    "\n",
    "runnable.invoke('hello')"
   ]
  },
  {
   "cell_type": "code",
   "execution_count": null,
   "id": "caf1cd57",
   "metadata": {},
   "outputs": [],
   "source": []
  }
 ],
 "metadata": {
  "kernelspec": {
   "display_name": "teddy",
   "language": "python",
   "name": "python3"
  },
  "language_info": {
   "codemirror_mode": {
    "name": "ipython",
    "version": 3
   },
   "file_extension": ".py",
   "mimetype": "text/x-python",
   "name": "python",
   "nbconvert_exporter": "python",
   "pygments_lexer": "ipython3",
   "version": "3.11.11"
  }
 },
 "nbformat": 4,
 "nbformat_minor": 5
}
