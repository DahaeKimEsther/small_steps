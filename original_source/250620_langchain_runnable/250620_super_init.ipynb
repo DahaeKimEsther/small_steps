{
 "cells": [
  {
   "cell_type": "markdown",
   "id": "b6bcc3ba",
   "metadata": {},
   "source": [
    "출처: "
   ]
  },
  {
   "cell_type": "code",
   "execution_count": null,
   "id": "113f52c4",
   "metadata": {},
   "outputs": [],
   "source": [
    "class Person:\n",
    "    def __init__(self):\n",
    "        print('Person __init__')\n",
    "        self.hello = '안녕하세요.'\n",
    " \n",
    "class Student(Person):\n",
    "    def __init__(self):\n",
    "        print('Student __init__')\n",
    "        self.school = '파이썬 코딩 도장'\n",
    " \n",
    "james = Student()\n",
    "print(james.school)\n",
    "print(james.hello)"
   ]
  }
 ],
 "metadata": {
  "language_info": {
   "name": "python"
  }
 },
 "nbformat": 4,
 "nbformat_minor": 5
}
