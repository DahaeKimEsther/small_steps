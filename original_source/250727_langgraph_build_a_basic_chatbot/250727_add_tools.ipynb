{
 "cells": [
  {
   "cell_type": "markdown",
   "id": "66eee843",
   "metadata": {},
   "source": [
    "# Reference\n",
    "[2. add tools - tutorial before langgraph v1.0](https://langchain-ai.github.io/langgraph/tutorials/get-started/2-add-tools/)"
   ]
  },
  {
   "cell_type": "code",
   "execution_count": 1,
   "id": "e56c957f",
   "metadata": {},
   "outputs": [
    {
     "data": {
      "text/plain": [
       "True"
      ]
     },
     "execution_count": 1,
     "metadata": {},
     "output_type": "execute_result"
    }
   ],
   "source": [
    "from dotenv import load_dotenv\n",
    "load_dotenv()"
   ]
  },
  {
   "cell_type": "markdown",
   "id": "dd4801ea",
   "metadata": {},
   "source": [
    "### 3. Define the tool"
   ]
  },
  {
   "cell_type": "code",
   "execution_count": 3,
   "id": "06caea2e",
   "metadata": {},
   "outputs": [
    {
     "data": {
      "text/plain": [
       "{'query': \"What's a 'node' in Langgraph?\",\n",
       " 'follow_up_questions': None,\n",
       " 'answer': None,\n",
       " 'images': [],\n",
       " 'results': [{'url': 'https://medium.com/@kbdhunga/beginners-guide-to-langgraph-understanding-state-nodes-and-edges-part-1-897e6114fa48',\n",
       "   'title': \"Beginner's Guide to LangGraph: Understanding State, Nodes, and ...\",\n",
       "   'content': 'Nodes: Nodes are the fundamental building blocks of a graph. Each node represents a specific function or operation that processes the current',\n",
       "   'score': 0.8252664,\n",
       "   'raw_content': None},\n",
       "  {'url': 'https://medium.com/@cplog/introduction-to-langgraph-a-beginners-guide-14f9be027141',\n",
       "   'title': \"Introduction to LangGraph: A Beginner's Guide - Medium\",\n",
       "   'content': '*   **Stateful Graph:** LangGraph revolves around the concept of a stateful graph, where each node in the graph represents a step in your computation, and the graph maintains a state that is passed around and updated as the computation progresses. LangGraph supports conditional edges, allowing you to dynamically determine the next node to execute based on the current state of the graph. Image 10: Introduction to AI Agent with LangChain and LangGraph: A Beginner’s Guide Image 18: How to build LLM Agent with LangGraph\\u200a—\\u200aStateGraph and Reducer Image 20: Simplest Graphs using LangGraph Framework Image 24: Building a ReAct Agent with Langgraph: A Step-by-Step Guide Image 28: Building an Agentic RAG with LangGraph: A Step-by-Step Guide',\n",
       "   'score': 0.6501347,\n",
       "   'raw_content': None}],\n",
       " 'response_time': 0.98}"
      ]
     },
     "execution_count": 3,
     "metadata": {},
     "output_type": "execute_result"
    }
   ],
   "source": [
    "from langchain_tavily import TavilySearch\n",
    "tool = TavilySearch(max_results=2)\n",
    "tools = [tool]\n",
    "tool.invoke(\"What's a 'node' in Langgraph?\")"
   ]
  },
  {
   "cell_type": "markdown",
   "id": "720c1433",
   "metadata": {},
   "source": [
    "### 4. Define the graph"
   ]
  },
  {
   "cell_type": "markdown",
   "id": "a9cb284e",
   "metadata": {},
   "source": [
    "add `bind_tools` on the LLM -> LLM knows the correct JSON format to use search engine"
   ]
  },
  {
   "cell_type": "code",
   "execution_count": 5,
   "id": "7d962113",
   "metadata": {},
   "outputs": [],
   "source": [
    "from langchain.chat_models import init_chat_model\n",
    "llm = init_chat_model('openai:gpt-4.1')"
   ]
  },
  {
   "cell_type": "code",
   "execution_count": 6,
   "id": "64ebd59f",
   "metadata": {},
   "outputs": [
    {
     "data": {
      "text/plain": [
       "<langgraph.graph.state.StateGraph at 0x1e1ca4bae10>"
      ]
     },
     "execution_count": 6,
     "metadata": {},
     "output_type": "execute_result"
    }
   ],
   "source": [
    "from typing import Annotated\n",
    "\n",
    "from typing import TypedDict\n",
    "\n",
    "from langgraph.graph import StateGraph, START, END\n",
    "from langgraph.graph.message import add_messages\n",
    "\n",
    "class State(TypedDict):\n",
    "    messages:Annotated[list, add_messages]\n",
    "    \n",
    "graph_builder = StateGraph(State)\n",
    "\n",
    "llm_with_tools = llm.bind_tools(tools) # Modification: tell the LLM which tools it can call\n",
    "\n",
    "def chatbot(state:State):\n",
    "    return {'messages': [llm_with_tools.invoke(state['messages'])]}\n",
    "\n",
    "graph_builder.add_node('chatbot', chatbot)"
   ]
  },
  {
   "cell_type": "markdown",
   "id": "00b4fdc3",
   "metadata": {},
   "source": [
    "### 5. Create a function to run the tools"
   ]
  },
  {
   "cell_type": "code",
   "execution_count": 7,
   "id": "767021e5",
   "metadata": {},
   "outputs": [
    {
     "data": {
      "text/plain": [
       "<langgraph.graph.state.StateGraph at 0x1e1ca4bae10>"
      ]
     },
     "execution_count": 7,
     "metadata": {},
     "output_type": "execute_result"
    }
   ],
   "source": [
    "import json\n",
    "\n",
    "from langchain_core.messages import ToolMessage\n",
    "\n",
    "class BasicToolNode:\n",
    "    \"\"\"A node that runs the tools requested in the last AIMessage\"\"\"\n",
    "    \n",
    "    def __init__(self, tools:list) -> None:\n",
    "        self.tools_by_name = {tool.name: tool for tool in tools}\n",
    "    \n",
    "    def __call__(self, inputs:dict):\n",
    "        if messages := inputs.get(\"messages\", []):\n",
    "            messages = messages[-1]\n",
    "        else:\n",
    "            raise ValueError(\"No message found in input\")\n",
    "        \n",
    "        outputs = []\n",
    "        for tool_call in messages.tool_calls:\n",
    "            tool_result = self.tools_by_name[tool_call['name']].invoke(\n",
    "                tool_call['args']\n",
    "            ) # LLM이 사용할 tool을 추론하면 그 tool을 호출해서, 호출한 tool에 LLM이 추론한 args값을 넣어주기\n",
    "            outputs.append(\n",
    "                ToolMessage(\n",
    "                    content=json.dumps(tool_result),\n",
    "                    name=tool_call['name'],\n",
    "                    tool_call_id=tool_call['id']\n",
    "                )\n",
    "            )\n",
    "        \n",
    "        return {'messages': outputs}\n",
    "\n",
    "tool_node = BasicToolNode(tools=[tool])\n",
    "graph_builder.add_node('tools', tool_node)"
   ]
  },
  {
   "cell_type": "markdown",
   "id": "c6e84541",
   "metadata": {},
   "source": [
    "### 6. Define the conditional_edges"
   ]
  },
  {
   "cell_type": "code",
   "execution_count": null,
   "id": "31328931",
   "metadata": {},
   "outputs": [],
   "source": []
  }
 ],
 "metadata": {
  "kernelspec": {
   "display_name": "teddy",
   "language": "python",
   "name": "python3"
  },
  "language_info": {
   "codemirror_mode": {
    "name": "ipython",
    "version": 3
   },
   "file_extension": ".py",
   "mimetype": "text/x-python",
   "name": "python",
   "nbconvert_exporter": "python",
   "pygments_lexer": "ipython3",
   "version": "3.11.11"
  }
 },
 "nbformat": 4,
 "nbformat_minor": 5
}
