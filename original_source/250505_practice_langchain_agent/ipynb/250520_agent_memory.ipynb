{
 "cells": [
  {
   "cell_type": "markdown",
   "id": "cadeea14",
   "metadata": {},
   "source": [
    "### Runnable with Message History\n",
    "\n",
    "[Agent Executor - Adding in memory](https://python.langchain.com/docs/how_to/agent_executor/#adding-in-memory)  \n",
    "[API reference - Runnable with Message History](https://python.langchain.com/api_reference/core/runnables/langchain_core.runnables.history.RunnableWithMessageHistory.html)  \n",
    "[API reference - BaseChatMessageHistory](https://python.langchain.com/api_reference/core/chat_history/langchain_core.chat_history.BaseChatMessageHistory.html)"
   ]
  },
  {
   "cell_type": "code",
   "execution_count": 1,
   "id": "b6c7c7ef",
   "metadata": {},
   "outputs": [],
   "source": [
    "from dotenv import load_dotenv\n",
    "from langchain.agents import AgentExecutor, create_tool_calling_agent\n",
    "from langchain_openai import ChatOpenAI\n",
    "from langchain_core.prompts import ChatPromptTemplate\n",
    "from langchain_core.runnables.history import RunnableWithMessageHistory\n",
    "import os\n",
    "import sys\n",
    "load_dotenv()\n",
    "\n",
    "sys.path.append(os.path.abspath(os.path.join(os.getcwd(), \"..\")))\n",
    "from tool_utils import naver_news, naver_dict # 반드시 .env파일 불러온 이후 import하기"
   ]
  },
  {
   "cell_type": "markdown",
   "id": "210ab45d",
   "metadata": {},
   "source": [
    "###  1. 기본 AgentExecutor 정의"
   ]
  },
  {
   "cell_type": "code",
   "execution_count": 2,
   "id": "5f937bcf",
   "metadata": {},
   "outputs": [],
   "source": [
    "prompt = ChatPromptTemplate.from_messages(\n",
    "    [\n",
    "        (\"system\", 'You are a helpful assistant'),\n",
    "        (\"placeholder\", \"{chat_history}\"),\n",
    "        (\"human\", \"{input}\"),\n",
    "        (\"placeholder\", \"{agent_scratchpad}\") # MUST\n",
    "\n",
    "    ]\n",
    ")\n",
    "model = ChatOpenAI(model=\"gpt-4o\", temperature=0)\n",
    "tools = [naver_news, naver_dict]\n",
    "agent = create_tool_calling_agent(model, tools, prompt) \n",
    "agent_executor = AgentExecutor(agent=agent, tools=tools, verbose=True) # -> chain"
   ]
  },
  {
   "cell_type": "markdown",
   "id": "1233c56f",
   "metadata": {},
   "source": [
    "### 2. Chat history 정의 및 Agent Executor에 chat history를 붙인 chain 만들기"
   ]
  },
  {
   "cell_type": "code",
   "execution_count": 3,
   "id": "428ebcfd",
   "metadata": {},
   "outputs": [],
   "source": [
    "from langchain_community.chat_message_histories import ChatMessageHistory\n",
    "from langchain_core.chat_history import BaseChatMessageHistory\n",
    "store = dict()\n",
    "\n",
    "def get_by_session_history(session_id: str)-> BaseChatMessageHistory:\n",
    "    if session_id not in store:\n",
    "        store[session_id] = ChatMessageHistory()\n",
    "    return store[session_id]"
   ]
  },
  {
   "cell_type": "code",
   "execution_count": null,
   "id": "fa2fe813",
   "metadata": {},
   "outputs": [],
   "source": [
    "agent_with_chat_history = RunnableWithMessageHistory(\n",
    "    agent_executor, # agentexecutor도 일종의 Runnable 객체이므로 RunnableWithMessageHistory의첫 parameter로 들어갈 수 있음\n",
    "    get_by_session_history,\n",
    "    input_messages_key=\"input\",\n",
    "    history_messages_key=\"chat_history\",\n",
    ")"
   ]
  },
  {
   "cell_type": "markdown",
   "id": "8720f7ae",
   "metadata": {},
   "source": [
    "### 3. 대화 진행"
   ]
  },
  {
   "cell_type": "code",
   "execution_count": 5,
   "id": "098a586a",
   "metadata": {},
   "outputs": [
    {
     "name": "stdout",
     "output_type": "stream",
     "text": [
      "\n",
      "\n",
      "\u001b[1m> Entering new None chain...\u001b[0m\n",
      "\u001b[32;1m\u001b[1;3m경제는 자원 배분과 거래의 학문입니다.\u001b[0m\n",
      "\n",
      "\u001b[1m> Finished chain.\u001b[0m\n",
      "==================================\u001b[1m Ai Message \u001b[0m==================================\n",
      "\n",
      "경제는 자원 배분과 거래의 학문입니다.\n"
     ]
    }
   ],
   "source": [
    "# 첫 번째 턴\n",
    "to_invoke:dict = {\"input\": \"난 경제를 잘 알고 싶어. 20자 이내로 짧게 대답해줘.\"}\n",
    "\n",
    "for step in agent_with_chat_history.stream(to_invoke, config={'configurable':{\"session_id\": \"foo\"}}):\n",
    "    step[\"messages\"][-1].pretty_print()"
   ]
  },
  {
   "cell_type": "code",
   "execution_count": 6,
   "id": "f80e0608",
   "metadata": {},
   "outputs": [
    {
     "name": "stdout",
     "output_type": "stream",
     "text": [
      "\n",
      "\n",
      "\u001b[1m> Entering new None chain...\u001b[0m\n",
      "\u001b[32;1m\u001b[1;3m경제를 잘 알고 싶다고 하셨습니다.\u001b[0m\n",
      "\n",
      "\u001b[1m> Finished chain.\u001b[0m\n",
      "==================================\u001b[1m Ai Message \u001b[0m==================================\n",
      "\n",
      "경제를 잘 알고 싶다고 하셨습니다.\n"
     ]
    }
   ],
   "source": [
    "# 두 번째 턴\n",
    "to_invoke:dict = {\"input\": \"내가 뭘 잘 알고 싶다고 했어?\"}\n",
    "\n",
    "for step in agent_with_chat_history.stream(to_invoke, config={'configurable':{\"session_id\": \"foo\"}}):\n",
    "    step[\"messages\"][-1].pretty_print()"
   ]
  },
  {
   "cell_type": "markdown",
   "id": "f426a21c",
   "metadata": {},
   "source": [
    "### 저장된 Chat History 확인"
   ]
  },
  {
   "cell_type": "code",
   "execution_count": 7,
   "id": "c8f5a93f",
   "metadata": {},
   "outputs": [
    {
     "data": {
      "text/plain": [
       "{'foo': InMemoryChatMessageHistory(messages=[HumanMessage(content='난 경제를 잘 알고 싶어. 20자 이내로 짧게 대답해줘.', additional_kwargs={}, response_metadata={}), AIMessage(content='경제는 자원 배분과 거래의 학문입니다.', additional_kwargs={}, response_metadata={}), HumanMessage(content='내가 뭘 잘 알고 싶다고 했어?', additional_kwargs={}, response_metadata={}), AIMessage(content='경제를 잘 알고 싶다고 하셨습니다.', additional_kwargs={}, response_metadata={})])}"
      ]
     },
     "execution_count": 7,
     "metadata": {},
     "output_type": "execute_result"
    }
   ],
   "source": [
    "store"
   ]
  },
  {
   "cell_type": "code",
   "execution_count": null,
   "id": "8fe1c72f",
   "metadata": {},
   "outputs": [],
   "source": []
  }
 ],
 "metadata": {
  "kernelspec": {
   "display_name": "teddy",
   "language": "python",
   "name": "python3"
  },
  "language_info": {
   "codemirror_mode": {
    "name": "ipython",
    "version": 3
   },
   "file_extension": ".py",
   "mimetype": "text/x-python",
   "name": "python",
   "nbconvert_exporter": "python",
   "pygments_lexer": "ipython3",
   "version": "3.11.11"
  }
 },
 "nbformat": 4,
 "nbformat_minor": 5
}
