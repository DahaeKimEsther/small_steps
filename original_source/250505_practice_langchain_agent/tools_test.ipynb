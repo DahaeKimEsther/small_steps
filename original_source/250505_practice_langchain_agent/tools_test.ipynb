{
 "cells": [
  {
   "cell_type": "markdown",
   "id": "be018e02",
   "metadata": {},
   "source": [
    "### DuckDuckgo\n",
    "* 무료지만 경제관련 정보를 검색했을 때, 출처가 블로그로 나와 신뢰도가 떨어진다."
   ]
  },
  {
   "cell_type": "code",
   "execution_count": null,
   "id": "d048aba2",
   "metadata": {},
   "outputs": [],
   "source": [
    "from langchain_community.utilities import DuckDuckGoSearchAPIWrapper\n",
    "from langchain_community.tools import DuckDuckGoSearchResults\n",
    "\n",
    "wrapper = DuckDuckGoSearchAPIWrapper(max_results=20)\n",
    "search = DuckDuckGoSearchResults(api_wrapper=wrapper, output_format=\"list\")\n",
    "result = search.invoke('2025년 한국은행 기준금리')\n",
    "result"
   ]
  },
  {
   "cell_type": "markdown",
   "id": "add17887",
   "metadata": {},
   "source": [
    "### Naver API\n",
    "#### 1) 네이버 뉴스\n",
    "* [블로그 - 애플리케이션 등록하는법, python 코드](https://dev-with-gpt.tistory.com/388)\n",
    "* [사이트- 네이버 내 애플리케이션 바로가기](https://developers.naver.com/apps/#/list)\n",
    "* [공식문서 - 네이버 검색 API python 코드](https://developers.naver.com/docs/serviceapi/search/blog/blog.md#python)\n",
    "* [공식문서 - 네이버 뉴스검색 파라미터](https://developers.naver.com/docs/serviceapi/search/news/news.md#%ED%8C%8C%EB%9D%BC%EB%AF%B8%ED%84%B0)\n",
    "* [공식문서 - 네이버 백과사전 파라미터](https://developers.naver.com/docs/serviceapi/search/encyclopedia/encyclopedia.md#%ED%8C%8C%EB%9D%BC%EB%AF%B8%ED%84%B0)"
   ]
  },
  {
   "cell_type": "code",
   "execution_count": 36,
   "id": "bc15f46b",
   "metadata": {},
   "outputs": [],
   "source": [
    "import os\n",
    "from dotenv import load_dotenv\n",
    "load_dotenv('../../../.env')\n",
    "client_id = os.getenv('NAVER_CLIENT_ID')\n",
    "client_secret = os.getenv(\"NAVER_CLIENT_SECRET\")"
   ]
  },
  {
   "cell_type": "code",
   "execution_count": 37,
   "id": "ddff6181",
   "metadata": {},
   "outputs": [],
   "source": [
    "import urllib.request\n",
    "encText = urllib.parse.quote(\"매일경제 한국은행 기준금리\")\n",
    "url = \"https://openapi.naver.com/v1/search/news.json?query=\" + encText + \"&display=10&sort=sim\"\n",
    "request = urllib.request.Request(url)\n",
    "request.add_header(\"X-Naver-Client-Id\",client_id)\n",
    "request.add_header(\"X-Naver-Client-Secret\",client_secret)\n",
    "response = urllib.request.urlopen(request)\n",
    "rescode = response.getcode()\n",
    "if(rescode==200):\n",
    "    response_body = response.read()\n",
    "    result = response_body.decode('utf-8')\n",
    "else:\n",
    "    raise Exception(rescode)"
   ]
  },
  {
   "cell_type": "code",
   "execution_count": 38,
   "id": "f9ede3ba",
   "metadata": {},
   "outputs": [
    {
     "data": {
      "text/plain": [
       "{'lastBuildDate': 'Mon, 05 May 2025 17:18:25 +0900',\n",
       " 'total': 3974,\n",
       " 'start': 1,\n",
       " 'display': 10,\n",
       " 'items': [{'title': '오늘의 조간신문 1면은? [아침&amp;<b>매일경제</b>]',\n",
       "   'originallink': 'http://www.mbn.co.kr/pages/news/newsView.php?news_seq_no=5107626',\n",
       "   'link': 'https://n.news.naver.com/mnews/article/057/0001882176?sid=102',\n",
       "   'description': '[아침&amp;<b>매일경제</b>] #출연자 윤영걸 전 매경닷컴 대표 최창렬 용인대 특임교수 이경민 변호사 #MBN #MBN아침앤<b>매일경제</b> #김은미앵커 #오프닝 #1면 #<b>한국은행</b> #1분기 #역성장 #<b>기준금리</b> #동결 #미일장관 #관세 #트럼프 #방위비... ',\n",
       "   'pubDate': 'Fri, 18 Apr 2025 10:03:00 +0900'},\n",
       "  {'title': '한은, <b>금리</b> 2.75% 동결…&quot;올해 성장률 1.5% 하회할 것&quot;',\n",
       "   'originallink': 'http://mbnmoney.mbn.co.kr/news/view?news_no=MM1005528414',\n",
       "   'link': 'http://mbnmoney.mbn.co.kr/news/view?news_no=MM1005528414',\n",
       "   'description': '올해 1분기 <b>한국</b> <b>경제</b>는 역성장을 했을 가능성이 있다고 전망했습니다. 고진경 기자의 보도입니다. 【 기자 】 <b>한국은행</b> 금융통화위원회는 오늘(17일) <b>기준금리</b>를 연 2.75%로 유지했습니다. 지난 2월 인하 이후 한 차례... ',\n",
       "   'pubDate': 'Thu, 17 Apr 2025 14:38:00 +0900'},\n",
       "  {'title': \"1년 만에 가산<b>금리</b> 대폭 인상한 <b>은행</b>들...'소비자 부담 가중'\",\n",
       "   'originallink': 'https://www.thepublic.kr/news/articleView.html?idxno=249288',\n",
       "   'link': 'https://www.thepublic.kr/news/articleView.html?idxno=249288',\n",
       "   'description': '2일 &lt;<b>매일경제</b>&gt;의 단독 보도에 따르면, 지난해 12월 주요 5대 <b>은행</b>인 KB국민·신한·하나·우리·NH농협<b>은행</b>의... 지난해 <b>한국은행</b>이 두 차례 <b>기준금리</b>를 내렸음에도 소비자들이 여전히 높은 <b>금리</b>를 체감한 이유는 바로 이... ',\n",
       "   'pubDate': 'Mon, 03 Feb 2025 17:08:00 +0900'},\n",
       "  {'title': '&quot;매매시장 최대변수는 정국불안·<b>금리</b> … 전셋값은 상승 불가피&quot;',\n",
       "   'originallink': 'https://www.mk.co.kr/article/11228096',\n",
       "   'link': 'https://n.news.naver.com/mnews/article/009/0005435528?sid=101',\n",
       "   'description': '<b>매일경제</b>신문이 인터뷰한 부동산 전문가 10인은 투자자가 눈여겨봐야 할 다양한 변수를 제시했다. 복잡한... 이들은 <b>한국은행</b>의 <b>기준금리</b> 인하 시기와 폭에 따라 시장 분위기가 크게 달라질 것이라고 입을 모았다. 최근... ',\n",
       "   'pubDate': 'Tue, 28 Jan 2025 17:51:00 +0900'},\n",
       "  {'title': '<b>한국은행</b>, <b>기준금리</b> 0.25%p 인하…성장률 전망은 대폭 하향',\n",
       "   'originallink': 'http://mbnmoney.mbn.co.kr/news/view?news_no=MM1005479244',\n",
       "   'link': 'http://mbnmoney.mbn.co.kr/news/view?news_no=MM1005479244',\n",
       "   'description': \"<b>한국은행</b>이 <b>기준금리</b>를 인하했습니다. 경기 하방 압력을 완화하기 위한 조치인데요. 내수부진과 트럼프... 이후 '금융상황 점검회의'를 열고, 대출<b>금리</b> 반영 정도 등 시장 영향을 논의했습니다. <b>매일경제</b>TV 김우연입니다. [ ]\",\n",
       "   'pubDate': 'Tue, 25 Feb 2025 15:08:00 +0900'},\n",
       "  {'title': \"연내 <b>금리</b> 2회 인하 전망…시장 일단 '안도'\",\n",
       "   'originallink': 'http://mbnmoney.mbn.co.kr/news/view?news_no=MM1005500240',\n",
       "   'link': 'http://mbnmoney.mbn.co.kr/news/view?news_no=MM1005500240',\n",
       "   'description': '걸쳐 <b>금리</b>를 내릴 거라는 기존 전망도 유지했습니다. 보도에 고진경 기자입니다. 【 기자 】 연준은 <b>기준</b>... 신중한 태도를 보이면서, <b>한국은행</b>은 4월에 <b>금리</b>를 동결할 가능성이 높아졌습니다. <b>매일경제</b>TV 고진경입니다. [ ]',\n",
       "   'pubDate': 'Thu, 20 Mar 2025 14:30:00 +0900'},\n",
       "  {'title': \"가계대출 <b>금리</b> 연일 하락…대출 잔액 급증 '적신호'\",\n",
       "   'originallink': 'http://mbnmoney.mbn.co.kr/news/view?news_no=MM1005498026',\n",
       "   'link': 'http://mbnmoney.mbn.co.kr/news/view?news_no=MM1005498026',\n",
       "   'description': '금융위는 어제 가계부채 점검회의에서 <b>은행</b>권에 가계부채 관리를 강화할 것을 주문했습니다. <b>한국은행</b>은 가계부채와 주택가격 등을 고려해 <b>기준금리</b> 추가 인하 타이밍을 결정한다는 방침입니다. <b>매일경제</b>TV 김우연입니다. [ ]',\n",
       "   'pubDate': 'Tue, 18 Mar 2025 14:42:00 +0900'},\n",
       "  {'title': \"새해 첫 한은 금통위서 <b>기준금리</b> '동결'…고환율 우려\",\n",
       "   'originallink': 'http://mbnmoney.mbn.co.kr/news/view?news_no=MM1005445705',\n",
       "   'link': 'http://mbnmoney.mbn.co.kr/news/view?news_no=MM1005445705',\n",
       "   'description': '▶ 인터뷰 : 이창용 / <b>한국은행</b> 총재 - &quot;오늘 금융통화위원회는 <b>한국은행 기준금리</b>를 현재의 3.00%에서... 오늘 올해 <b>경제</b>성장률이 지난 11월 전망치인 1.9%를 하회할 가능성이 크다고 내다봤습니다. <b>매일경제</b>TV 진현진입니다.',\n",
       "   'pubDate': 'Thu, 16 Jan 2025 14:14:00 +0900'},\n",
       "  {'title': '&quot;환율보다 경기침체와 싸울때 … 돈 빨리 풀고, <b>금리</b> 더 내려라&quot;',\n",
       "   'originallink': 'https://www.mk.co.kr/article/11214164',\n",
       "   'link': 'https://n.news.naver.com/mnews/article/009/0005426635?sid=101',\n",
       "   'description': '경기 부진이 악화하는 가운데 오는 16일 <b>한국은행</b> 금융통화위원회에서 <b>기준금리</b> 추가 인하도 시급하다고 입을 모았다. <b>매일경제</b>가 9일 대외<b>경제</b>정책연구원, LG경영연구원, 산업연구원, <b>한국</b><b>경제</b>연구원 원장들을 상대로... ',\n",
       "   'pubDate': 'Thu, 09 Jan 2025 18:13:00 +0900'},\n",
       "  {'title': '공급 절벽·<b>금리</b> 인하 … 전문가 76% &quot;올해 서울 집값 오른다&quot;',\n",
       "   'originallink': 'https://www.mk.co.kr/article/11207539',\n",
       "   'link': 'https://n.news.naver.com/mnews/article/009/0005422337?sid=101',\n",
       "   'description': '<b>매일경제</b>신문이 지난해 말 부동산 전문가 50명을 대상으로 진행한 설문에서 응답자 76%(38명)가 올해 서울... 상황에서도 <b>한국은행</b>은 올해 <b>기준금리</b> 추가 인하를 예고했다. 두성규 목민<b>경제</b>정책연구소 대표는 &quot;중장기적인... ',\n",
       "   'pubDate': 'Wed, 01 Jan 2025 16:00:00 +0900'}]}"
      ]
     },
     "execution_count": 38,
     "metadata": {},
     "output_type": "execute_result"
    }
   ],
   "source": [
    "import json\n",
    "json.loads(result)"
   ]
  },
  {
   "cell_type": "markdown",
   "id": "0756571c",
   "metadata": {},
   "source": [
    "#### 2) 지식백과"
   ]
  },
  {
   "cell_type": "code",
   "execution_count": 34,
   "id": "478ba06d",
   "metadata": {},
   "outputs": [],
   "source": [
    "import urllib.request\n",
    "encText = urllib.parse.quote(\"기준금리\")\n",
    "url = \"https://openapi.naver.com/v1/search/encyc.json?query=\" + encText + \"&display=10\"\n",
    "request = urllib.request.Request(url)\n",
    "request.add_header(\"X-Naver-Client-Id\",client_id)\n",
    "request.add_header(\"X-Naver-Client-Secret\",client_secret)\n",
    "response = urllib.request.urlopen(request)\n",
    "rescode = response.getcode()\n",
    "if(rescode==200):\n",
    "    response_body = response.read()\n",
    "    result = response_body.decode('utf-8')\n",
    "else:\n",
    "    raise Exception(rescode)"
   ]
  },
  {
   "cell_type": "code",
   "execution_count": 35,
   "id": "3b65a274",
   "metadata": {},
   "outputs": [
    {
     "data": {
      "text/plain": [
       "{'lastBuildDate': 'Mon, 05 May 2025 17:14:43 +0900',\n",
       " 'total': 1044,\n",
       " 'start': 1,\n",
       " 'display': 10,\n",
       " 'items': [{'title': '<b>기준금리</b>',\n",
       "   'link': 'https://terms.naver.com/entry.naver?docId=930336&cid=43667&categoryId=43667',\n",
       "   'description': '한\\xa0나라의\\xa0금리를\\xa0대표하는\\xa0정책금리로서,\\xa0한국은행\\xa0<b>기준금리</b>는\\xa0금융통화위원회에서\\xa0결정하는\\xa0정책금리이다.\\xa0한은이\\xa0<b>기준금리</b>를\\xa0인상하면\\xa0시중은행의\\xa0금리도\\xa0함께\\xa0오르고,\\xa0<b>기준금리</b> ',\n",
       "   'thumbnail': 'https://post-phinf.pstatic.net/MjAxODExMzBfMjAg/MDAxNTQzNTU4MjE0ODUx.W4E5jQcLUbHlwqL587uDHlqDuh66ryp-BJM8_JNbjMEg.4n7pXvBsv3azAPGwiV8x_Bj_fKsUVmeyUCt1weB20j4g.JPEG/%EA%B8%B0%EC%A4%80%EA%B8%88%EB%A6%AC-RF.jpg?type=m4500_4500_fst'},\n",
       "  {'title': '<b>기준금리</b>',\n",
       "   'link': 'https://terms.naver.com/entry.naver?docId=300309&cid=43665&categoryId=43665',\n",
       "   'description': '한국은행의 최고 결정기구인 금융통화위원회에서 매달 회의를 통해서 결정하는 <b>금리</b>. 한국은행의 최고 결정기구인 금융통화위원회에서 매달 회의를 통해서 결정하는 <b>금리</b>. 2008년 2월까지 한국은 ',\n",
       "   'thumbnail': ''},\n",
       "  {'title': '<b>기준금리</b>',\n",
       "   'link': 'https://terms.naver.com/entry.naver?docId=2079533&cid=42107&categoryId=42107',\n",
       "   'description': '한 나라의 금리를 대표하는 정책금리로 각종 금리의 기준이 된다. 한국은행이 <b>기준금리</b>를 인상하면 국내 실물경제와 외환시장 등이 영향을 받는다. 은행에선 <b>기준금리</b> 인상으로 자금 조달비용이  ',\n",
       "   'thumbnail': ''},\n",
       "  {'title': '<b>기준금리</b>',\n",
       "   'link': 'https://terms.naver.com/entry.naver?docId=2699&cid=43659&categoryId=43659',\n",
       "   'description': '한 나라의 <b>금리</b> 체계를 대표하는 정책<b>금리</b>로, 해당국 각종 <b>금리</b>의 <b>기준</b>이 된다. 중앙은행이 다른 금융기관과 거래할 때 <b>기준</b>으로 삼는 정책<b>금리</b>이자 목표로 삼는 <b>금리</b>이기도 한데, 한국에선 <b>기준</b> ',\n",
       "   'thumbnail': ''},\n",
       "  {'title': '<b>기준금리</b>',\n",
       "   'link': 'https://terms.naver.com/entry.naver?docId=1071474&cid=40942&categoryId=31825',\n",
       "   'description': '<b>금리</b>체계의 <b>기준</b>이 되는 중심<b>금리</b>. <b>금리</b>에는 중앙은행의 공정이율, 시중은행의 예대금<b>금리</b>(預貸金金利), 콜레이트 ·국채<b>금리</b> 등 여러 가지가 있는데, 이것들은 유기적인 관계를 맺고 <b>금리</b>체계를  ',\n",
       "   'thumbnail': ''},\n",
       "  {'title': \"중앙은행이 관리하는 <b>금리</b>, '<b>기준금리</b>'\",\n",
       "   'link': 'https://terms.naver.com/entry.naver?docId=6738024&cid=72204&categoryId=72336',\n",
       "   'description': \"[중앙은행이 관리하는 금리, '<b>기준금리</b>'] <b>기준금리</b>란 한 나라의 금리를 대표하는 정책금리를 말하는데요. <b>기준금리</b>는 국내외 경제 상황 변화에 맞춰 유동적으로 조정됩니다. <b>기준금리</b>가 낮아지면  \",\n",
       "   'thumbnail': ''},\n",
       "  {'title': '<b>금리</b>',\n",
       "   'link': 'https://terms.naver.com/entry.naver?docId=3431569&cid=58438&categoryId=58438',\n",
       "   'description': \"[<b>금리</b>(이자율)란?] <b>금리</b>란 원금에 지급되는 기간당 이자를 비율로 표시한 것으로, 같은 의미로 '이자율'이라는 표현을 사용하기도 한다. '<b>금리</b> 부담이 크다'는 말에서 <b>금리</b>는 이자와 같은 의미로 사 \",\n",
       "   'thumbnail': 'http://openapi-dbscthumb.phinf.naver.net/4522_000_1/20160721182803605_5VI0HW6VA.jpg/bg19_12_i1.jpg?type=m160_160'},\n",
       "  {'title': '국제<b>기준금리</b>',\n",
       "   'link': 'https://terms.naver.com/entry.naver?docId=2249&cid=43659&categoryId=43659',\n",
       "   'description': '국제대출에 적용되고 기준이 되는 금리를 말하며, 흔히 국제금리로 불린다. 실제 금융거래에 사용되는 금리는 국제<b>기준금리</b>에 신용도나 기간에 따른 가산금리를 붙이는 방식으로 정해진다. 가장  ',\n",
       "   'thumbnail': ''},\n",
       "  {'title': '<b>기준</b>대출<b>금리</b>',\n",
       "   'link': 'https://terms.naver.com/entry.naver?docId=1202100&cid=40942&categoryId=31829',\n",
       "   'description': '영국의 은행 고객예금 및 대출금리의 기준이 되는 금리. 영국은 <b>기준금리</b>에 일정한 스프레드를 가감하여 예금대출금리를 산정하는데, 1926년 이후 <b>기준금리</b>는 어음교환소 가맹은행간 금리협정에  ',\n",
       "   'thumbnail': ''},\n",
       "  {'title': '<b>기준</b>대출<b>금리</b>',\n",
       "   'link': 'https://terms.naver.com/entry.naver?docId=2701&cid=43659&categoryId=43659',\n",
       "   'description': '영국에서 1981년 8월에 도입한 금융조정방식에 의한 <b>금리</b>. 영국은 그전까지 잉글랜드은행(중앙은행)의 시중 금융기관에 대한 최저대출<b>금리</b>가 사실상 공정<b>금리</b>였다. 그러나 시중 대출<b>금리</b>가 경직화 ',\n",
       "   'thumbnail': ''}]}"
      ]
     },
     "execution_count": 35,
     "metadata": {},
     "output_type": "execute_result"
    }
   ],
   "source": [
    "import json\n",
    "json.loads(result)"
   ]
  },
  {
   "cell_type": "code",
   "execution_count": null,
   "id": "aff2e096",
   "metadata": {},
   "outputs": [],
   "source": []
  }
 ],
 "metadata": {
  "kernelspec": {
   "display_name": "teddy",
   "language": "python",
   "name": "python3"
  },
  "language_info": {
   "codemirror_mode": {
    "name": "ipython",
    "version": 3
   },
   "file_extension": ".py",
   "mimetype": "text/x-python",
   "name": "python",
   "nbconvert_exporter": "python",
   "pygments_lexer": "ipython3",
   "version": "3.11.11"
  }
 },
 "nbformat": 4,
 "nbformat_minor": 5
}
